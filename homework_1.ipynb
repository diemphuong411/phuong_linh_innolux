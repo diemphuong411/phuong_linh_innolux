{
 "cells": [
  {
   "cell_type": "code",
   "execution_count": 1,
   "outputs": [],
   "source": [
    "items = [\n",
    "    {\n",
    "        'code':0,\n",
    "        'name':'coca cola',\n",
    "        'price':5\n",
    "    },\n",
    "    {\n",
    "        'code':1,\n",
    "        'name':'cadbury',\n",
    "        'price':10\n",
    "    },\n",
    "    {\n",
    "        'code':2,\n",
    "        'name':'chips',\n",
    "        'price':2\n",
    "    },\n",
    "]"
   ],
   "metadata": {
    "collapsed": false,
    "pycharm": {
     "name": "#%%\n"
    }
   }
  },
  {
   "cell_type": "code",
   "execution_count": 2,
   "metadata": {
    "collapsed": true
   },
   "outputs": [
    {
     "name": "stdout",
     "output_type": "stream",
     "text": [
      "Welcome to the vending machine\n",
      "Item Name: coca cola - Price: 5 - code: 0\n",
      "Item Name: cadbury - Price: 10 - code: 1\n",
      "Item Name: chips - Price: 2 - code: 2\n",
      "Great, chips will cost you 2 dollars\n",
      "Thank you for buying here is your chips\n",
      "\n"
     ]
    }
   ],
   "source": [
    "is_quit = False\n",
    "item = ''\n",
    "\n",
    "while not is_quit:\n",
    "    print(\"Welcome to the vending machine\")\n",
    "    for i in items:\n",
    "        print(f\"Item Name: {i['name']} - Price: {i['price']} - code: {i['code']}\")\n",
    "\n",
    "    query = int(input(\"Enter the code number of the item you want to get: \"))\n",
    "    for i in items:\n",
    "        if query == i['code']:\n",
    "            item = i\n",
    "    if item == '':\n",
    "        print('INVALID CODE')\n",
    "    else:\n",
    "        print(f\"Great, {item['name']} will cost you {item['price']} dollars\")\n",
    "\n",
    "        price = int(input(f\"Enter {item['price']} dollars to purchase: \"))\n",
    "        if price == item['price']:\n",
    "            print(f\"Thank you for buying here is your {item['name']}\")\n",
    "        else:\n",
    "            print(f\"Please enter only {item['price']} dollars\")\n",
    "\n",
    "    query = input(\"To quit the machine enter q and to continue buying enter anything: \")\n",
    "    if query == 'c':\n",
    "        is_quit = False\n",
    "    else:\n",
    "        is_quit = True\n",
    "    print('')"
   ]
  },
  {
   "cell_type": "code",
   "execution_count": null,
   "outputs": [],
   "source": [],
   "metadata": {
    "collapsed": false,
    "pycharm": {
     "name": "#%%\n"
    }
   }
  }
 ],
 "metadata": {
  "kernelspec": {
   "display_name": "Python 3",
   "language": "python",
   "name": "python3"
  },
  "language_info": {
   "codemirror_mode": {
    "name": "ipython",
    "version": 2
   },
   "file_extension": ".py",
   "mimetype": "text/x-python",
   "name": "python",
   "nbconvert_exporter": "python",
   "pygments_lexer": "ipython2",
   "version": "2.7.6"
  }
 },
 "nbformat": 4,
 "nbformat_minor": 0
}